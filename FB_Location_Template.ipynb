{
 "cells": [
  {
   "cell_type": "code",
   "execution_count": null,
   "metadata": {},
   "outputs": [],
   "source": [
    "import pandas as pd\n",
    "\n",
    "#need to set path of Proj Lib in newer ersion.... path is where anaconda3 library share is\n",
    "\n",
    "import os\n",
    "os.environ[\"PROJ_LIB\"] = r\"C:\\Users\\*Name*\\Anaconda3\\Library\\share\" #fixr\n",
    "from mpl_toolkits.basemap import Basemap\n",
    "import matplotlib.pyplot as plt\n",
    "import json"
   ]
  },
  {
   "cell_type": "code",
   "execution_count": null,
   "metadata": {},
   "outputs": [],
   "source": [
    "#reads and loads JSON File\n",
    "with open(r'*Location File Name*', 'r') as outfile:\n",
    "    data = json.load(outfile)\n",
    "n = len(data['location_history'])\n",
    "print(data['location_history'][1].keys())\n",
    "print(data['location_history'][1]['coordinate'].keys())\n"
   ]
  },
  {
   "cell_type": "code",
   "execution_count": null,
   "metadata": {},
   "outputs": [],
   "source": [
    "data['location_history'][1]['name']"
   ]
  },
  {
   "cell_type": "code",
   "execution_count": null,
   "metadata": {},
   "outputs": [],
   "source": [
    "#Set up columns for Town name, Latitude and Longitude\n",
    "name = []\n",
    "for i in range(n):\n",
    "    name.append(data['location_history'][i]['name'])\n",
    "lat = []\n",
    "for i in range(n):\n",
    "    lat.append(round(data['location_history'][i]['coordinate']['latitude'],2))\n",
    "longi = []\n",
    "for i in range(n):\n",
    "    longi.append(round(data['location_history'][i]['coordinate']['longitude'],2))"
   ]
  },
  {
   "cell_type": "code",
   "execution_count": null,
   "metadata": {},
   "outputs": [],
   "source": [
    "data['location_history'][1]['coordinate']['latitude']"
   ]
  },
  {
   "cell_type": "code",
   "execution_count": null,
   "metadata": {},
   "outputs": [],
   "source": [
    "print(type(longi[0]))\n",
    "print(len(lat))\n",
    "print(len(name))"
   ]
  },
  {
   "cell_type": "code",
   "execution_count": null,
   "metadata": {},
   "outputs": [],
   "source": [
    "#Create Dataframe \n",
    "location_data = pd.DataFrame({\n",
    "    'Name':name,\n",
    "    'Latitude':lat,\n",
    "    'Longitude':longi\n",
    "})"
   ]
  },
  {
   "cell_type": "code",
   "execution_count": null,
   "metadata": {},
   "outputs": [],
   "source": [
    "#Counts how many times you've logged into Facebook based on Town\n",
    "x = location_data.groupby('Name').count()\n",
    "x = x.reset_index()\n",
    "x = x.sort_values(by='Latitude')"
   ]
  },
  {
   "cell_type": "code",
   "execution_count": null,
   "metadata": {},
   "outputs": [],
   "source": [
    "#Plots top 5 Towns on Bar Graph\n",
    "import numpy as np\n",
    "plt.figure(figsize=(20,20))\n",
    "logs = x.Latitude.tolist()\n",
    "names = x.Name.tolist()\n",
    "y_pos = np.arange(len(names[-10:]))\n",
    "\n",
    "plt.title('Facebook Logins')\n",
    "plt.xlabel('Towns')\n",
    "plt.ylabel('Log Ins')\n",
    "plt.bar(y_pos, logs[-10:])\n",
    "plt.xticks(y_pos,names[-10:])\n",
    "plt.show()"
   ]
  },
  {
   "cell_type": "code",
   "execution_count": null,
   "metadata": {},
   "outputs": [],
   "source": [
    "location_data.reset_index(drop=True)"
   ]
  },
  {
   "cell_type": "code",
   "execution_count": null,
   "metadata": {},
   "outputs": [],
   "source": [
    "#Gets the frequency of towns\n",
    "freq = location_data.groupby('Name').count().reset_index()\n"
   ]
  },
  {
   "cell_type": "code",
   "execution_count": null,
   "metadata": {},
   "outputs": [],
   "source": [
    "#Plots coordinates on a map (Will need to change Basemap enteries to the area in the world you want)\n",
    "plt.figure(figsize=(20,20))\n",
    "m = Basemap(projection='mill',\n",
    "            llcrnrlat = 30,\n",
    "            llcrnrlon = -80,\n",
    "            urcrnrlat = 50,\n",
    "            urcrnrlon = -60,\n",
    "            resolution='l')\n",
    "\n",
    "m.drawcoastlines()\n",
    "m.drawcountries(linewidth=2)\n",
    "m.drawstates(color='b')\n",
    "NYClat, NYClon = location_data.Latitude.tolist(), location_data.Longitude.tolist()\n",
    "xpt, ypt = m(NYClon, NYClat)\n",
    "m.plot(xpt, ypt, 'o', markersize=5)"
   ]
  },
  {
   "cell_type": "code",
   "execution_count": null,
   "metadata": {},
   "outputs": [],
   "source": [
    "data['location_history'][1]['creation_timestamp']"
   ]
  },
  {
   "cell_type": "code",
   "execution_count": null,
   "metadata": {},
   "outputs": [],
   "source": [
    "#Set up Timestamp table\n",
    "timestamp = []\n",
    "for i in range(n):\n",
    "    timestamp.append(data['location_history'][i]['creation_timestamp'])"
   ]
  },
  {
   "cell_type": "code",
   "execution_count": null,
   "metadata": {},
   "outputs": [],
   "source": [
    "from datetime import datetime as dt\n",
    "datetime = []\n"
   ]
  },
  {
   "cell_type": "code",
   "execution_count": null,
   "metadata": {},
   "outputs": [],
   "source": [
    "#Change format of date and time format\n",
    "for i in range(n):\n",
    "    datetime.append(dt.fromtimestamp(timestamp[i]).isoformat())\n",
    "    "
   ]
  },
  {
   "cell_type": "code",
   "execution_count": null,
   "metadata": {},
   "outputs": [],
   "source": [
    "datetime"
   ]
  },
  {
   "cell_type": "markdown",
   "metadata": {},
   "source": [
    "# Bar Charts on Timestamps\n",
    "* You will need to change the code below based on how much data you have. I have example code below on what I did to chart my data. You may use it or modify the code"
   ]
  },
  {
   "cell_type": "code",
   "execution_count": null,
   "metadata": {},
   "outputs": [],
   "source": [
    "#Create Timestamp dataframe\n",
    "signin = pd.DataFrame(datetime)"
   ]
  },
  {
   "cell_type": "code",
   "execution_count": null,
   "metadata": {},
   "outputs": [],
   "source": [
    "$Create the list of sign ins based on year\n",
    "twoK19 = signin[signin[0].str.contains('2019-')]\n",
    "twoK18 = signin[signin[0].str.contains('2018-')]\n",
    "twoK17 = signin[signin[0].str.contains('2017-')]\n",
    "twoK16 = signin[signin[0].str.contains('2016-')]\n",
    "twoK15 = signin[signin[0].str.contains('2015-')]"
   ]
  },
  {
   "cell_type": "code",
   "execution_count": null,
   "metadata": {},
   "outputs": [],
   "source": [
    "len(twoK18) + len(twoK17) + len(twoK19) + len(twoK16)"
   ]
  },
  {
   "cell_type": "code",
   "execution_count": null,
   "metadata": {},
   "outputs": [],
   "source": [
    "#Bar chart based on years\n",
    "signins = [len(twoK16),len(twoK17),len(twoK18),len(twoK19)]\n",
    "years = [2016,2017,2018,2019]\n",
    "y_pos = np.arange(len(years))\n",
    "\n",
    "plt.title('Facebook Logins')\n",
    "plt.xlabel('Year')\n",
    "plt.ylabel('Log Ins')\n",
    "plt.bar(y_pos, signins)\n",
    "plt.xticks(y_pos,years)\n",
    "plt.show()"
   ]
  },
  {
   "cell_type": "code",
   "execution_count": null,
   "metadata": {},
   "outputs": [],
   "source": [
    "#list of sign ins based on month in specific year\n",
    "twoK19Jan = signin[signin[0].str.contains('2019-01')]\n",
    "twoK19Feb = signin[signin[0].str.contains('2019-02')]\n",
    "twoK19Mar = signin[signin[0].str.contains('2019-03')]\n",
    "twoK19Apr = signin[signin[0].str.contains('2019-04')]\n",
    "twoK19May = signin[signin[0].str.contains('2019-05')]\n",
    "twoK19Jun = signin[signin[0].str.contains('2019-06')]\n",
    "twoK19Jul = signin[signin[0].str.contains('2019-07')]\n",
    "twoK19Aug = signin[signin[0].str.contains('2019-08')]\n",
    "twoK19Sep = signin[signin[0].str.contains('2019-09')]\n",
    "twoK19Oct = signin[signin[0].str.contains('2019-10')]\n",
    "twoK19Nov = signin[signin[0].str.contains('2019-11')]\n",
    "twoK19Dec = signin[signin[0].str.contains('2019-12')]"
   ]
  },
  {
   "cell_type": "code",
   "execution_count": null,
   "metadata": {},
   "outputs": [],
   "source": [
    "#Plot bar chart based on months\n",
    "plt.figure(figsize=(20,10))\n",
    "signins = [len(twoK19Jan),len(twoK19Feb),len(twoK19Mar),len(twoK19Apr),len(twoK19May),len(twoK19Jun),len(twoK19Jul),len(twoK19Aug),len(twoK19Sep),len(twoK19Oct),len(twoK19Nov),len(twoK19Dec)]\n",
    "years = ['January','February','March','April','May','June','July','August', 'September','October','November','December']\n",
    "y_pos = np.arange(len(years))\n",
    "\n",
    "plt.title('Facebook Logins 2019')\n",
    "plt.xlabel('Months')\n",
    "plt.ylabel('Log Ins')\n",
    "plt.bar(y_pos, signins)\n",
    "plt.xticks(y_pos,years)\n",
    "plt.show()"
   ]
  },
  {
   "cell_type": "code",
   "execution_count": null,
   "metadata": {},
   "outputs": [],
   "source": [
    "twoK18Jan = signin[signin[0].str.contains('2018-01')]\n",
    "twoK18Feb = signin[signin[0].str.contains('2018-02')]\n",
    "twoK18Mar = signin[signin[0].str.contains('2018-03')]\n",
    "twoK18Apr = signin[signin[0].str.contains('2018-04')]\n",
    "twoK18May = signin[signin[0].str.contains('2018-05')]\n",
    "twoK18Jun = signin[signin[0].str.contains('2018-06')]\n",
    "twoK18Jul = signin[signin[0].str.contains('2018-07')]\n",
    "twoK18Aug = signin[signin[0].str.contains('2018-08')]\n",
    "twoK18Sep = signin[signin[0].str.contains('2018-09')]\n",
    "twoK18Oct = signin[signin[0].str.contains('2018-10')]\n",
    "twoK18Nov = signin[signin[0].str.contains('2018-11')]\n",
    "twoK18Dec = signin[signin[0].str.contains('2018-12')]"
   ]
  },
  {
   "cell_type": "code",
   "execution_count": null,
   "metadata": {},
   "outputs": [],
   "source": [
    "plt.figure(figsize=(20,10))\n",
    "signins = [len(twoK18Jan),len(twoK18Feb),len(twoK18Mar),len(twoK18Apr),len(twoK18May),len(twoK18Jun),len(twoK18Jul),len(twoK18Aug),len(twoK18Sep),len(twoK18Oct),len(twoK18Nov),len(twoK18Dec)]\n",
    "years = ['January','February','March','April','May','June','July','August', 'September','October','November','December']\n",
    "y_pos = np.arange(len(years))\n",
    "\n",
    "plt.title('Facebook Logins 2018')\n",
    "plt.xlabel('Months')\n",
    "plt.ylabel('Log Ins')\n",
    "plt.bar(y_pos, signins)\n",
    "plt.xticks(y_pos,years)\n",
    "plt.show()"
   ]
  },
  {
   "cell_type": "code",
   "execution_count": null,
   "metadata": {},
   "outputs": [],
   "source": [
    "twoK17Jan = signin[signin[0].str.contains('2017-01')]\n",
    "twoK17Feb = signin[signin[0].str.contains('2017-02')]\n",
    "twoK17Mar = signin[signin[0].str.contains('2017-03')]\n",
    "twoK17Apr = signin[signin[0].str.contains('2017-04')]\n",
    "twoK17May = signin[signin[0].str.contains('2017-05')]\n",
    "twoK17Jun = signin[signin[0].str.contains('2017-06')]\n",
    "twoK17Jul = signin[signin[0].str.contains('2017-07')]\n",
    "twoK17Aug = signin[signin[0].str.contains('2017-08')]\n",
    "twoK17Sep = signin[signin[0].str.contains('2017-09')]\n",
    "twoK17Oct = signin[signin[0].str.contains('2017-10')]\n",
    "twoK17Nov = signin[signin[0].str.contains('2017-11')]\n",
    "twoK17Dec = signin[signin[0].str.contains('2017-12')]"
   ]
  },
  {
   "cell_type": "code",
   "execution_count": null,
   "metadata": {},
   "outputs": [],
   "source": [
    "plt.figure(figsize=(20,10))\n",
    "signins = [len(twoK17Jan),len(twoK17Feb),len(twoK17Mar),len(twoK17Apr),len(twoK17May),len(twoK17Jun),len(twoK17Jul),len(twoK17Aug),len(twoK17Sep),len(twoK17Oct),len(twoK17Nov),len(twoK17Dec)]\n",
    "years = ['January','February','March','April','May','June','July','August', 'September','October','November','December']\n",
    "y_pos = np.arange(len(years))\n",
    "\n",
    "plt.title('Facebook Logins 2017')\n",
    "plt.xlabel('Months')\n",
    "plt.ylabel('Log Ins')\n",
    "plt.bar(y_pos, signins)\n",
    "plt.xticks(y_pos,years)\n",
    "plt.show()"
   ]
  },
  {
   "cell_type": "code",
   "execution_count": null,
   "metadata": {},
   "outputs": [],
   "source": [
    "twoK16Jan = signin[signin[0].str.contains('2016-01')]\n",
    "twoK16Feb = signin[signin[0].str.contains('2016-02')]\n",
    "twoK16Mar = signin[signin[0].str.contains('2016-03')]\n",
    "twoK16Apr = signin[signin[0].str.contains('2016-04')]\n",
    "twoK16May = signin[signin[0].str.contains('2016-05')]\n",
    "twoK16Jun = signin[signin[0].str.contains('2016-06')]\n",
    "twoK16Jul = signin[signin[0].str.contains('2016-07')]\n",
    "twoK16Aug = signin[signin[0].str.contains('2016-08')]\n",
    "twoK16Sep = signin[signin[0].str.contains('2016-09')]\n",
    "twoK16Oct = signin[signin[0].str.contains('2016-10')]\n",
    "twoK16Nov = signin[signin[0].str.contains('2016-11')]\n",
    "twoK16Dec = signin[signin[0].str.contains('2016-12')]"
   ]
  },
  {
   "cell_type": "code",
   "execution_count": null,
   "metadata": {},
   "outputs": [],
   "source": [
    "plt.figure(figsize=(20,10))\n",
    "signins = [len(twoK16Jan),len(twoK16Feb),len(twoK16Mar),len(twoK16Apr),len(twoK16May),len(twoK16Jun),len(twoK16Jul),len(twoK16Aug),len(twoK16Sep),len(twoK16Oct),len(twoK16Nov),len(twoK16Dec)]\n",
    "years = ['January','February','March','April','May','June','July','August', 'September','October','November','December']\n",
    "y_pos = np.arange(len(years))\n",
    "\n",
    "plt.title('Facebook Logins 2016')\n",
    "plt.xlabel('Months')\n",
    "plt.ylabel('Log Ins')\n",
    "plt.bar(y_pos, signins)\n",
    "plt.xticks(y_pos,years)\n",
    "plt.show()"
   ]
  },
  {
   "cell_type": "code",
   "execution_count": null,
   "metadata": {},
   "outputs": [],
   "source": [
    "#All months from each year combined\n",
    "plt.figure(figsize=(20,10))\n",
    "signins = [len(twoK16Jan),len(twoK16Feb),len(twoK16Mar),len(twoK16Apr),len(twoK16May),len(twoK16Jun),len(twoK16Jul),len(twoK16Aug),len(twoK16Sep),len(twoK16Oct),len(twoK16Nov),len(twoK16Dec),\n",
    "           len(twoK17Jan),len(twoK17Feb),len(twoK17Mar),len(twoK17Apr),len(twoK17May),len(twoK17Jun),len(twoK17Jul),len(twoK17Aug),len(twoK17Sep),len(twoK17Oct),len(twoK17Nov),len(twoK17Dec),\n",
    "          len(twoK18Jan),len(twoK18Feb),len(twoK18Mar),len(twoK18Apr),len(twoK18May),len(twoK18Jun),len(twoK18Jul),len(twoK18Aug),len(twoK18Sep),len(twoK18Oct),len(twoK18Nov),len(twoK18Dec),\n",
    "          len(twoK19Jan),len(twoK19Feb),len(twoK19Mar),len(twoK19Apr),len(twoK19May),len(twoK19Jun),len(twoK19Jul),len(twoK19Aug),len(twoK19Sep),len(twoK19Oct),len(twoK19Nov),len(twoK19Dec)]\n",
    "years = ['January','February','March','April','May','June','July','August', 'September','October','November','December',\n",
    "        'January','February','March','April','May','June','July','August', 'September','October','November','December',\n",
    "        'January','February','March','April','May','June','July','August', 'September','October','November','December',\n",
    "        'January','February','March','April','May','June','July','August', 'September','October','November','December']\n",
    "y_pos = np.arange(len(years))\n",
    "\n",
    "plt.title('Facebook Logins 2016-2019 Months')\n",
    "plt.xlabel('Months')\n",
    "plt.ylabel('Log Ins', )\n",
    "plt.bar(y_pos, signins)\n",
    "plt.xticks(y_pos,years, rotation=90)\n",
    "plt.show()"
   ]
  },
  {
   "cell_type": "code",
   "execution_count": null,
   "metadata": {},
   "outputs": [],
   "source": []
  }
 ],
 "metadata": {
  "kernelspec": {
   "display_name": "Python 3",
   "language": "python",
   "name": "python3"
  },
  "language_info": {
   "codemirror_mode": {
    "name": "ipython",
    "version": 3
   },
   "file_extension": ".py",
   "mimetype": "text/x-python",
   "name": "python",
   "nbconvert_exporter": "python",
   "pygments_lexer": "ipython3",
   "version": "3.7.3"
  }
 },
 "nbformat": 4,
 "nbformat_minor": 2
}
